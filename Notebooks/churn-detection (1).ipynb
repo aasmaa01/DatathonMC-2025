{
 "cells": [
  {
   "cell_type": "code",
   "execution_count": null,
   "metadata": {
    "_cell_guid": "b1076dfc-b9ad-4769-8c92-a6c4dae69d19",
    "_uuid": "8f2839f25d086af736a60e9eeb907d3b93b6e0e5",
    "execution": {
     "iopub.execute_input": "2025-07-23T21:17:44.431214Z",
     "iopub.status.busy": "2025-07-23T21:17:44.430936Z",
     "iopub.status.idle": "2025-07-23T21:17:48.818130Z",
     "shell.execute_reply": "2025-07-23T21:17:48.817285Z",
     "shell.execute_reply.started": "2025-07-23T21:17:44.431177Z"
    },
    "trusted": true
   },
   "outputs": [],
   "source": [
    "import numpy as np # linear algebra\n",
    "import pandas as pd # data processing, CSV file I/O (e.g. pd.read_csv)\n",
    "import matplotlib.pylab as plt\n",
    "import seaborn as sns\n",
    "from sklearn.preprocessing import StandardScaler, OneHotEncoder\n",
    "from sklearn.compose import ColumnTransformer\n",
    "from sklearn.pipeline import Pipeline\n",
    "\n",
    "plt.style.use('ggplot')\n",
    "pd.set_option('display.max_columns', 50)"
   ]
  },
  {
   "cell_type": "markdown",
   "metadata": {},
   "source": [
    "Data Understanding "
   ]
  },
  {
   "cell_type": "code",
   "execution_count": null,
   "metadata": {
    "execution": {
     "iopub.execute_input": "2025-07-23T21:17:48.820831Z",
     "iopub.status.busy": "2025-07-23T21:17:48.820328Z",
     "iopub.status.idle": "2025-07-23T21:17:48.883385Z",
     "shell.execute_reply": "2025-07-23T21:17:48.882542Z",
     "shell.execute_reply.started": "2025-07-23T21:17:48.820806Z"
    },
    "trusted": true
   },
   "outputs": [],
   "source": [
    "df= pd.read_csv('/kaggle/input/churn-detection/train.csv')"
   ]
  },
  {
   "cell_type": "code",
   "execution_count": null,
   "metadata": {
    "execution": {
     "iopub.execute_input": "2025-07-23T21:17:48.884773Z",
     "iopub.status.busy": "2025-07-23T21:17:48.884522Z",
     "iopub.status.idle": "2025-07-23T21:17:48.909775Z",
     "shell.execute_reply": "2025-07-23T21:17:48.908943Z",
     "shell.execute_reply.started": "2025-07-23T21:17:48.884754Z"
    },
    "trusted": true
   },
   "outputs": [],
   "source": [
    "test_df = pd.read_csv('/kaggle/input/churn-detection/test.csv')\n"
   ]
  },
  {
   "cell_type": "code",
   "execution_count": null,
   "metadata": {
    "execution": {
     "iopub.execute_input": "2025-07-23T21:17:48.911099Z",
     "iopub.status.busy": "2025-07-23T21:17:48.910787Z",
     "iopub.status.idle": "2025-07-23T21:17:48.918843Z",
     "shell.execute_reply": "2025-07-23T21:17:48.917990Z",
     "shell.execute_reply.started": "2025-07-23T21:17:48.911071Z"
    },
    "trusted": true
   },
   "outputs": [
    {
     "data": {
      "text/plain": [
       "(5634, 21)"
      ]
     },
     "execution_count": 4,
     "metadata": {},
     "output_type": "execute_result"
    }
   ],
   "source": [
    "df.shape"
   ]
  },
  {
   "cell_type": "code",
   "execution_count": null,
   "metadata": {
    "execution": {
     "iopub.execute_input": "2025-07-23T21:17:48.920492Z",
     "iopub.status.busy": "2025-07-23T21:17:48.920006Z",
     "iopub.status.idle": "2025-07-23T21:17:48.941401Z",
     "shell.execute_reply": "2025-07-23T21:17:48.940458Z",
     "shell.execute_reply.started": "2025-07-23T21:17:48.920459Z"
    },
    "trusted": true
   },
   "outputs": [
    {
     "data": {
      "text/plain": [
       "Index(['id', 'gender', 'SeniorCitizen', 'Partner', 'Dependents', 'tenure',\n",
       "       'PhoneService', 'MultipleLines', 'InternetService', 'OnlineSecurity',\n",
       "       'OnlineBackup', 'DeviceProtection', 'TechSupport', 'StreamingTV',\n",
       "       'StreamingMovies', 'Contract', 'PaperlessBilling', 'PaymentMethod',\n",
       "       'MonthlyCharges', 'TotalCharges', 'Churn'],\n",
       "      dtype='object')"
      ]
     },
     "execution_count": 5,
     "metadata": {},
     "output_type": "execute_result"
    }
   ],
   "source": [
    "df.columns"
   ]
  },
  {
   "cell_type": "code",
   "execution_count": null,
   "metadata": {
    "execution": {
     "iopub.execute_input": "2025-07-23T21:17:48.943283Z",
     "iopub.status.busy": "2025-07-23T21:17:48.942615Z",
     "iopub.status.idle": "2025-07-23T21:17:48.965033Z",
     "shell.execute_reply": "2025-07-23T21:17:48.964175Z",
     "shell.execute_reply.started": "2025-07-23T21:17:48.943250Z"
    },
    "trusted": true
   },
   "outputs": [
    {
     "data": {
      "text/plain": [
       "id                    int64\n",
       "gender               object\n",
       "SeniorCitizen         int64\n",
       "Partner              object\n",
       "Dependents           object\n",
       "tenure                int64\n",
       "PhoneService         object\n",
       "MultipleLines        object\n",
       "InternetService      object\n",
       "OnlineSecurity       object\n",
       "OnlineBackup         object\n",
       "DeviceProtection     object\n",
       "TechSupport          object\n",
       "StreamingTV          object\n",
       "StreamingMovies      object\n",
       "Contract             object\n",
       "PaperlessBilling     object\n",
       "PaymentMethod        object\n",
       "MonthlyCharges      float64\n",
       "TotalCharges         object\n",
       "Churn                object\n",
       "dtype: object"
      ]
     },
     "execution_count": 6,
     "metadata": {},
     "output_type": "execute_result"
    }
   ],
   "source": [
    "df.dtypes"
   ]
  },
  {
   "cell_type": "code",
   "execution_count": null,
   "metadata": {
    "execution": {
     "iopub.execute_input": "2025-07-23T21:17:48.968787Z",
     "iopub.status.busy": "2025-07-23T21:17:48.968046Z",
     "iopub.status.idle": "2025-07-23T21:17:49.012466Z",
     "shell.execute_reply": "2025-07-23T21:17:49.011609Z",
     "shell.execute_reply.started": "2025-07-23T21:17:48.968749Z"
    },
    "trusted": true
   },
   "outputs": [
    {
     "data": {
      "text/html": [
       "<div>\n",
       "<style scoped>\n",
       "    .dataframe tbody tr th:only-of-type {\n",
       "        vertical-align: middle;\n",
       "    }\n",
       "\n",
       "    .dataframe tbody tr th {\n",
       "        vertical-align: top;\n",
       "    }\n",
       "\n",
       "    .dataframe thead th {\n",
       "        text-align: right;\n",
       "    }\n",
       "</style>\n",
       "<table border=\"1\" class=\"dataframe\">\n",
       "  <thead>\n",
       "    <tr style=\"text-align: right;\">\n",
       "      <th></th>\n",
       "      <th>id</th>\n",
       "      <th>SeniorCitizen</th>\n",
       "      <th>tenure</th>\n",
       "      <th>MonthlyCharges</th>\n",
       "    </tr>\n",
       "  </thead>\n",
       "  <tbody>\n",
       "    <tr>\n",
       "      <th>count</th>\n",
       "      <td>5634.000000</td>\n",
       "      <td>5634.000000</td>\n",
       "      <td>5634.000000</td>\n",
       "      <td>5634.000000</td>\n",
       "    </tr>\n",
       "    <tr>\n",
       "      <th>mean</th>\n",
       "      <td>2816.500000</td>\n",
       "      <td>0.163294</td>\n",
       "      <td>32.485091</td>\n",
       "      <td>64.929961</td>\n",
       "    </tr>\n",
       "    <tr>\n",
       "      <th>std</th>\n",
       "      <td>1626.540039</td>\n",
       "      <td>0.369667</td>\n",
       "      <td>24.568744</td>\n",
       "      <td>30.138105</td>\n",
       "    </tr>\n",
       "    <tr>\n",
       "      <th>min</th>\n",
       "      <td>0.000000</td>\n",
       "      <td>0.000000</td>\n",
       "      <td>0.000000</td>\n",
       "      <td>18.400000</td>\n",
       "    </tr>\n",
       "    <tr>\n",
       "      <th>25%</th>\n",
       "      <td>1408.250000</td>\n",
       "      <td>0.000000</td>\n",
       "      <td>9.000000</td>\n",
       "      <td>35.662500</td>\n",
       "    </tr>\n",
       "    <tr>\n",
       "      <th>50%</th>\n",
       "      <td>2816.500000</td>\n",
       "      <td>0.000000</td>\n",
       "      <td>29.000000</td>\n",
       "      <td>70.500000</td>\n",
       "    </tr>\n",
       "    <tr>\n",
       "      <th>75%</th>\n",
       "      <td>4224.750000</td>\n",
       "      <td>0.000000</td>\n",
       "      <td>55.000000</td>\n",
       "      <td>90.000000</td>\n",
       "    </tr>\n",
       "    <tr>\n",
       "      <th>max</th>\n",
       "      <td>5633.000000</td>\n",
       "      <td>1.000000</td>\n",
       "      <td>72.000000</td>\n",
       "      <td>118.750000</td>\n",
       "    </tr>\n",
       "  </tbody>\n",
       "</table>\n",
       "</div>"
      ],
      "text/plain": [
       "                id  SeniorCitizen       tenure  MonthlyCharges\n",
       "count  5634.000000    5634.000000  5634.000000     5634.000000\n",
       "mean   2816.500000       0.163294    32.485091       64.929961\n",
       "std    1626.540039       0.369667    24.568744       30.138105\n",
       "min       0.000000       0.000000     0.000000       18.400000\n",
       "25%    1408.250000       0.000000     9.000000       35.662500\n",
       "50%    2816.500000       0.000000    29.000000       70.500000\n",
       "75%    4224.750000       0.000000    55.000000       90.000000\n",
       "max    5633.000000       1.000000    72.000000      118.750000"
      ]
     },
     "execution_count": 7,
     "metadata": {},
     "output_type": "execute_result"
    }
   ],
   "source": [
    "df.describe()"
   ]
  },
  {
   "cell_type": "code",
   "execution_count": null,
   "metadata": {
    "execution": {
     "iopub.execute_input": "2025-07-23T21:17:49.013749Z",
     "iopub.status.busy": "2025-07-23T21:17:49.013433Z",
     "iopub.status.idle": "2025-07-23T21:17:49.028393Z",
     "shell.execute_reply": "2025-07-23T21:17:49.027472Z",
     "shell.execute_reply.started": "2025-07-23T21:17:49.013720Z"
    },
    "trusted": true
   },
   "outputs": [],
   "source": [
    "df= df[['gender', 'SeniorCitizen', 'Partner', 'Dependents', 'tenure',\n",
    "       'PhoneService', 'MultipleLines', 'InternetService', 'OnlineSecurity',\n",
    "       'OnlineBackup', 'DeviceProtection', 'TechSupport', 'StreamingTV',\n",
    "       'StreamingMovies', 'Contract', 'PaperlessBilling', 'PaymentMethod',\n",
    "       'MonthlyCharges', 'TotalCharges', 'Churn']].copy()"
   ]
  },
  {
   "cell_type": "code",
   "execution_count": null,
   "metadata": {
    "execution": {
     "iopub.execute_input": "2025-07-23T21:17:49.029615Z",
     "iopub.status.busy": "2025-07-23T21:17:49.029348Z",
     "iopub.status.idle": "2025-07-23T21:17:49.047020Z",
     "shell.execute_reply": "2025-07-23T21:17:49.046205Z",
     "shell.execute_reply.started": "2025-07-23T21:17:49.029596Z"
    },
    "trusted": true
   },
   "outputs": [
    {
     "data": {
      "text/plain": [
       "(5634, 20)"
      ]
     },
     "execution_count": 9,
     "metadata": {},
     "output_type": "execute_result"
    }
   ],
   "source": [
    "df.shape"
   ]
  },
  {
   "cell_type": "code",
   "execution_count": null,
   "metadata": {
    "execution": {
     "iopub.execute_input": "2025-07-23T21:17:49.048456Z",
     "iopub.status.busy": "2025-07-23T21:17:49.047873Z",
     "iopub.status.idle": "2025-07-23T21:17:49.066811Z",
     "shell.execute_reply": "2025-07-23T21:17:49.065970Z",
     "shell.execute_reply.started": "2025-07-23T21:17:49.048378Z"
    },
    "trusted": true
   },
   "outputs": [
    {
     "data": {
      "text/plain": [
       "gender               object\n",
       "SeniorCitizen         int64\n",
       "Partner              object\n",
       "Dependents           object\n",
       "tenure                int64\n",
       "PhoneService         object\n",
       "MultipleLines        object\n",
       "InternetService      object\n",
       "OnlineSecurity       object\n",
       "OnlineBackup         object\n",
       "DeviceProtection     object\n",
       "TechSupport          object\n",
       "StreamingTV          object\n",
       "StreamingMovies      object\n",
       "Contract             object\n",
       "PaperlessBilling     object\n",
       "PaymentMethod        object\n",
       "MonthlyCharges      float64\n",
       "TotalCharges         object\n",
       "Churn                object\n",
       "dtype: object"
      ]
     },
     "execution_count": 10,
     "metadata": {},
     "output_type": "execute_result"
    }
   ],
   "source": [
    "df.dtypes"
   ]
  },
  {
   "cell_type": "code",
   "execution_count": null,
   "metadata": {
    "execution": {
     "iopub.execute_input": "2025-07-23T21:17:49.067995Z",
     "iopub.status.busy": "2025-07-23T21:17:49.067654Z",
     "iopub.status.idle": "2025-07-23T21:17:49.113555Z",
     "shell.execute_reply": "2025-07-23T21:17:49.112671Z",
     "shell.execute_reply.started": "2025-07-23T21:17:49.067963Z"
    },
    "trusted": true
   },
   "outputs": [
    {
     "name": "stdout",
     "output_type": "stream",
     "text": [
      "<class 'pandas.core.frame.DataFrame'>\n",
      "RangeIndex: 5634 entries, 0 to 5633\n",
      "Data columns (total 20 columns):\n",
      " #   Column            Non-Null Count  Dtype  \n",
      "---  ------            --------------  -----  \n",
      " 0   gender            5634 non-null   object \n",
      " 1   SeniorCitizen     5634 non-null   int64  \n",
      " 2   Partner           5634 non-null   object \n",
      " 3   Dependents        5634 non-null   object \n",
      " 4   tenure            5634 non-null   int64  \n",
      " 5   PhoneService      5634 non-null   object \n",
      " 6   MultipleLines     5634 non-null   object \n",
      " 7   InternetService   5634 non-null   object \n",
      " 8   OnlineSecurity    5634 non-null   object \n",
      " 9   OnlineBackup      5634 non-null   object \n",
      " 10  DeviceProtection  5634 non-null   object \n",
      " 11  TechSupport       5634 non-null   object \n",
      " 12  StreamingTV       5634 non-null   object \n",
      " 13  StreamingMovies   5634 non-null   object \n",
      " 14  Contract          5634 non-null   object \n",
      " 15  PaperlessBilling  5634 non-null   object \n",
      " 16  PaymentMethod     5634 non-null   object \n",
      " 17  MonthlyCharges    5634 non-null   float64\n",
      " 18  TotalCharges      5634 non-null   object \n",
      " 19  Churn             5634 non-null   object \n",
      "dtypes: float64(1), int64(2), object(17)\n",
      "memory usage: 880.4+ KB\n"
     ]
    }
   ],
   "source": [
    "df.info()"
   ]
  },
  {
   "cell_type": "code",
   "execution_count": null,
   "metadata": {
    "execution": {
     "iopub.execute_input": "2025-07-23T21:17:49.114814Z",
     "iopub.status.busy": "2025-07-23T21:17:49.114508Z",
     "iopub.status.idle": "2025-07-23T21:17:49.123041Z",
     "shell.execute_reply": "2025-07-23T21:17:49.121947Z",
     "shell.execute_reply.started": "2025-07-23T21:17:49.114785Z"
    },
    "trusted": true
   },
   "outputs": [
    {
     "data": {
      "text/plain": [
       "Churn\n",
       "No     4139\n",
       "Yes    1495\n",
       "Name: count, dtype: int64"
      ]
     },
     "execution_count": 12,
     "metadata": {},
     "output_type": "execute_result"
    }
   ],
   "source": [
    "df['Churn'].value_counts()\n"
   ]
  },
  {
   "cell_type": "code",
   "execution_count": null,
   "metadata": {
    "execution": {
     "iopub.execute_input": "2025-07-23T21:17:49.124513Z",
     "iopub.status.busy": "2025-07-23T21:17:49.124064Z",
     "iopub.status.idle": "2025-07-23T21:17:49.151641Z",
     "shell.execute_reply": "2025-07-23T21:17:49.150717Z",
     "shell.execute_reply.started": "2025-07-23T21:17:49.124483Z"
    },
    "trusted": true
   },
   "outputs": [
    {
     "data": {
      "text/plain": [
       "Contract        Churn\n",
       "Month-to-month  No       1776\n",
       "                Yes      1326\n",
       "One year        No       1043\n",
       "                Yes       130\n",
       "Two year        No       1320\n",
       "                Yes        39\n",
       "Name: count, dtype: int64"
      ]
     },
     "execution_count": 13,
     "metadata": {},
     "output_type": "execute_result"
    }
   ],
   "source": [
    "df.groupby('Contract')['Churn'].value_counts()"
   ]
  },
  {
   "cell_type": "code",
   "execution_count": null,
   "metadata": {
    "execution": {
     "iopub.execute_input": "2025-07-23T21:17:49.152959Z",
     "iopub.status.busy": "2025-07-23T21:17:49.152705Z",
     "iopub.status.idle": "2025-07-23T21:17:49.167566Z",
     "shell.execute_reply": "2025-07-23T21:17:49.166691Z",
     "shell.execute_reply.started": "2025-07-23T21:17:49.152935Z"
    },
    "trusted": true
   },
   "outputs": [
    {
     "data": {
      "text/plain": [
       "gender               object\n",
       "SeniorCitizen         int64\n",
       "Partner              object\n",
       "Dependents           object\n",
       "tenure                int64\n",
       "PhoneService         object\n",
       "MultipleLines        object\n",
       "InternetService      object\n",
       "OnlineSecurity       object\n",
       "OnlineBackup         object\n",
       "DeviceProtection     object\n",
       "TechSupport          object\n",
       "StreamingTV          object\n",
       "StreamingMovies      object\n",
       "Contract             object\n",
       "PaperlessBilling     object\n",
       "PaymentMethod        object\n",
       "MonthlyCharges      float64\n",
       "TotalCharges         object\n",
       "Churn                object\n",
       "dtype: object"
      ]
     },
     "execution_count": 14,
     "metadata": {},
     "output_type": "execute_result"
    }
   ],
   "source": [
    "df.dtypes"
   ]
  },
  {
   "cell_type": "code",
   "execution_count": null,
   "metadata": {
    "execution": {
     "iopub.execute_input": "2025-07-23T21:17:49.168796Z",
     "iopub.status.busy": "2025-07-23T21:17:49.168509Z",
     "iopub.status.idle": "2025-07-23T21:17:49.194902Z",
     "shell.execute_reply": "2025-07-23T21:17:49.194032Z",
     "shell.execute_reply.started": "2025-07-23T21:17:49.168777Z"
    },
    "trusted": true
   },
   "outputs": [
    {
     "data": {
      "text/plain": [
       "gender              0\n",
       "SeniorCitizen       0\n",
       "Partner             0\n",
       "Dependents          0\n",
       "tenure              0\n",
       "PhoneService        0\n",
       "MultipleLines       0\n",
       "InternetService     0\n",
       "OnlineSecurity      0\n",
       "OnlineBackup        0\n",
       "DeviceProtection    0\n",
       "TechSupport         0\n",
       "StreamingTV         0\n",
       "StreamingMovies     0\n",
       "Contract            0\n",
       "PaperlessBilling    0\n",
       "PaymentMethod       0\n",
       "MonthlyCharges      0\n",
       "TotalCharges        0\n",
       "Churn               0\n",
       "dtype: int64"
      ]
     },
     "execution_count": 15,
     "metadata": {},
     "output_type": "execute_result"
    }
   ],
   "source": [
    "df.isnull().sum()"
   ]
  },
  {
   "cell_type": "code",
   "execution_count": null,
   "metadata": {
    "execution": {
     "iopub.execute_input": "2025-07-23T21:17:49.195985Z",
     "iopub.status.busy": "2025-07-23T21:17:49.195752Z",
     "iopub.status.idle": "2025-07-23T21:17:49.211122Z",
     "shell.execute_reply": "2025-07-23T21:17:49.210197Z",
     "shell.execute_reply.started": "2025-07-23T21:17:49.195967Z"
    },
    "trusted": true
   },
   "outputs": [
    {
     "name": "stdout",
     "output_type": "stream",
     "text": [
      "['gender', 'SeniorCitizen', 'Partner', 'Dependents', 'tenure', 'PhoneService', 'MultipleLines', 'InternetService', 'OnlineSecurity', 'OnlineBackup', 'DeviceProtection', 'TechSupport', 'StreamingTV', 'StreamingMovies', 'Contract', 'PaperlessBilling', 'PaymentMethod', 'MonthlyCharges', 'TotalCharges', 'Churn']\n"
     ]
    }
   ],
   "source": [
    "print(df.columns.tolist())\n"
   ]
  },
  {
   "cell_type": "code",
   "execution_count": null,
   "metadata": {
    "execution": {
     "iopub.execute_input": "2025-07-23T21:17:49.212595Z",
     "iopub.status.busy": "2025-07-23T21:17:49.212061Z",
     "iopub.status.idle": "2025-07-23T21:17:49.233329Z",
     "shell.execute_reply": "2025-07-23T21:17:49.232476Z",
     "shell.execute_reply.started": "2025-07-23T21:17:49.212567Z"
    },
    "trusted": true
   },
   "outputs": [
    {
     "data": {
      "text/plain": [
       "Contract        Churn\n",
       "Month-to-month  No       1776\n",
       "                Yes      1326\n",
       "One year        No       1043\n",
       "                Yes       130\n",
       "Two year        No       1320\n",
       "                Yes        39\n",
       "Name: count, dtype: int64"
      ]
     },
     "execution_count": 17,
     "metadata": {},
     "output_type": "execute_result"
    }
   ],
   "source": [
    "df.groupby('Contract')['Churn'].value_counts()\n"
   ]
  },
  {
   "cell_type": "code",
   "execution_count": null,
   "metadata": {
    "execution": {
     "iopub.execute_input": "2025-07-23T21:17:49.234659Z",
     "iopub.status.busy": "2025-07-23T21:17:49.234331Z",
     "iopub.status.idle": "2025-07-23T21:17:49.256145Z",
     "shell.execute_reply": "2025-07-23T21:17:49.255239Z",
     "shell.execute_reply.started": "2025-07-23T21:17:49.234632Z"
    },
    "trusted": true
   },
   "outputs": [
    {
     "data": {
      "text/plain": [
       "InternetService  Churn\n",
       "DSL              No       1575\n",
       "                 Yes       362\n",
       "Fiber optic      No       1438\n",
       "                 Yes      1045\n",
       "No               No       1126\n",
       "                 Yes        88\n",
       "Name: count, dtype: int64"
      ]
     },
     "execution_count": 18,
     "metadata": {},
     "output_type": "execute_result"
    }
   ],
   "source": [
    "df.groupby('InternetService')['Churn'].value_counts()"
   ]
  },
  {
   "cell_type": "code",
   "execution_count": null,
   "metadata": {
    "execution": {
     "iopub.execute_input": "2025-07-23T21:17:49.257865Z",
     "iopub.status.busy": "2025-07-23T21:17:49.257138Z",
     "iopub.status.idle": "2025-07-23T21:17:49.276900Z",
     "shell.execute_reply": "2025-07-23T21:17:49.276027Z",
     "shell.execute_reply.started": "2025-07-23T21:17:49.257832Z"
    },
    "trusted": true
   },
   "outputs": [
    {
     "data": {
      "text/plain": [
       "gender  Churn\n",
       "Female  No       2055\n",
       "        Yes       746\n",
       "Male    No       2084\n",
       "        Yes       749\n",
       "Name: count, dtype: int64"
      ]
     },
     "execution_count": 19,
     "metadata": {},
     "output_type": "execute_result"
    }
   ],
   "source": [
    "df.groupby('gender')['Churn'].value_counts()"
   ]
  },
  {
   "cell_type": "code",
   "execution_count": null,
   "metadata": {
    "execution": {
     "iopub.execute_input": "2025-07-23T21:17:49.278579Z",
     "iopub.status.busy": "2025-07-23T21:17:49.278236Z",
     "iopub.status.idle": "2025-07-23T21:17:49.306121Z",
     "shell.execute_reply": "2025-07-23T21:17:49.305212Z",
     "shell.execute_reply.started": "2025-07-23T21:17:49.278551Z"
    },
    "trusted": true
   },
   "outputs": [
    {
     "data": {
      "text/plain": [
       "TechSupport          Churn\n",
       "No                   No       1614\n",
       "                     Yes      1157\n",
       "No internet service  No       1126\n",
       "                     Yes        88\n",
       "Yes                  No       1399\n",
       "                     Yes       250\n",
       "Name: count, dtype: int64"
      ]
     },
     "execution_count": 20,
     "metadata": {},
     "output_type": "execute_result"
    }
   ],
   "source": [
    "df.groupby('MultipleLines')['Churn'].value_counts()\n",
    "df.groupby('StreamingTV')['Churn'].value_counts()\n",
    "df.groupby('TechSupport')['Churn'].value_counts()"
   ]
  },
  {
   "cell_type": "code",
   "execution_count": null,
   "metadata": {
    "execution": {
     "iopub.execute_input": "2025-07-23T21:17:49.307314Z",
     "iopub.status.busy": "2025-07-23T21:17:49.307044Z",
     "iopub.status.idle": "2025-07-23T21:17:49.320242Z",
     "shell.execute_reply": "2025-07-23T21:17:49.319425Z",
     "shell.execute_reply.started": "2025-07-23T21:17:49.307291Z"
    },
    "trusted": true
   },
   "outputs": [
    {
     "data": {
      "text/plain": [
       "SeniorCitizen  Churn\n",
       "0              No       3597\n",
       "               Yes      1117\n",
       "1              No        542\n",
       "               Yes       378\n",
       "Name: count, dtype: int64"
      ]
     },
     "execution_count": 21,
     "metadata": {},
     "output_type": "execute_result"
    }
   ],
   "source": [
    "df.groupby('SeniorCitizen')['Churn'].value_counts()\n"
   ]
  },
  {
   "cell_type": "code",
   "execution_count": null,
   "metadata": {
    "execution": {
     "iopub.execute_input": "2025-07-23T21:17:49.325684Z",
     "iopub.status.busy": "2025-07-23T21:17:49.325209Z",
     "iopub.status.idle": "2025-07-23T21:17:49.333339Z",
     "shell.execute_reply": "2025-07-23T21:17:49.332547Z",
     "shell.execute_reply.started": "2025-07-23T21:17:49.325650Z"
    },
    "trusted": true
   },
   "outputs": [],
   "source": [
    "df['TotalCharges'] = pd.to_numeric(df['TotalCharges'], errors='coerce')\n"
   ]
  },
  {
   "cell_type": "code",
   "execution_count": null,
   "metadata": {
    "execution": {
     "iopub.execute_input": "2025-07-23T21:17:49.334970Z",
     "iopub.status.busy": "2025-07-23T21:17:49.334282Z",
     "iopub.status.idle": "2025-07-23T21:17:49.356190Z",
     "shell.execute_reply": "2025-07-23T21:17:49.355250Z",
     "shell.execute_reply.started": "2025-07-23T21:17:49.334942Z"
    },
    "trusted": true
   },
   "outputs": [
    {
     "data": {
      "text/plain": [
       "Index(['gender', 'Partner', 'Dependents', 'PhoneService', 'MultipleLines',\n",
       "       'InternetService', 'OnlineSecurity', 'OnlineBackup', 'DeviceProtection',\n",
       "       'TechSupport', 'StreamingTV', 'StreamingMovies', 'Contract',\n",
       "       'PaperlessBilling', 'PaymentMethod', 'Churn'],\n",
       "      dtype='object')"
      ]
     },
     "execution_count": 23,
     "metadata": {},
     "output_type": "execute_result"
    }
   ],
   "source": [
    "df.select_dtypes(include='object').columns\n"
   ]
  },
  {
   "cell_type": "code",
   "execution_count": null,
   "metadata": {
    "execution": {
     "iopub.execute_input": "2025-07-23T21:17:49.357636Z",
     "iopub.status.busy": "2025-07-23T21:17:49.357205Z",
     "iopub.status.idle": "2025-07-23T21:17:50.256319Z",
     "shell.execute_reply": "2025-07-23T21:17:50.255493Z",
     "shell.execute_reply.started": "2025-07-23T21:17:49.357608Z"
    },
    "trusted": true
   },
   "outputs": [],
   "source": [
    "import catboost as  cb\n",
    "X = df.drop('Churn', axis=1)\n",
    "y = df['Churn']\n",
    "\n",
    "from sklearn.model_selection import train_test_split\n",
    "\n",
    "X_train, X_test, y_train, y_test = train_test_split(X, y, test_size=0.2, stratify=y, random_state=42)\n"
   ]
  },
  {
   "cell_type": "code",
   "execution_count": null,
   "metadata": {
    "execution": {
     "iopub.execute_input": "2025-07-23T21:17:50.257721Z",
     "iopub.status.busy": "2025-07-23T21:17:50.257239Z",
     "iopub.status.idle": "2025-07-23T21:17:50.292789Z",
     "shell.execute_reply": "2025-07-23T21:17:50.291909Z",
     "shell.execute_reply.started": "2025-07-23T21:17:50.257694Z"
    },
    "trusted": true
   },
   "outputs": [],
   "source": [
    "X_train.dtypes\n",
    "X_train_encoded = pd.get_dummies(X_train)\n",
    "X_test_encoded = pd.get_dummies(X_test)\n",
    "\n",
    "# pour garder les colonnes identiques :\n",
    "X_train_encoded, X_test_encoded = X_train_encoded.align(X_test_encoded, join='left', axis=1, fill_value=0)\n"
   ]
  },
  {
   "cell_type": "code",
   "execution_count": null,
   "metadata": {
    "execution": {
     "iopub.execute_input": "2025-07-23T21:17:50.293974Z",
     "iopub.status.busy": "2025-07-23T21:17:50.293702Z",
     "iopub.status.idle": "2025-07-23T21:17:50.299538Z",
     "shell.execute_reply": "2025-07-23T21:17:50.298708Z",
     "shell.execute_reply.started": "2025-07-23T21:17:50.293948Z"
    },
    "trusted": true
   },
   "outputs": [],
   "source": [
    "X_train_encoded.fillna(0, inplace=True)\n",
    "X_test_encoded.fillna(0, inplace=True)\n"
   ]
  },
  {
   "cell_type": "code",
   "execution_count": null,
   "metadata": {
    "execution": {
     "iopub.execute_input": "2025-07-23T21:17:50.300681Z",
     "iopub.status.busy": "2025-07-23T21:17:50.300426Z",
     "iopub.status.idle": "2025-07-23T21:17:51.296793Z",
     "shell.execute_reply": "2025-07-23T21:17:51.295662Z",
     "shell.execute_reply.started": "2025-07-23T21:17:50.300662Z"
    },
    "trusted": true
   },
   "outputs": [
    {
     "ename": "NameError",
     "evalue": "name 'test_pred' is not defined",
     "output_type": "error",
     "traceback": [
      "\u001b[0;31m---------------------------------------------------------------------------\u001b[0m",
      "\u001b[0;31mNameError\u001b[0m                                 Traceback (most recent call last)",
      "\u001b[0;32m/tmp/ipykernel_36/2910412012.py\u001b[0m in \u001b[0;36m<cell line: 0>\u001b[0;34m()\u001b[0m\n\u001b[1;32m     13\u001b[0m \u001b[0;34m\u001b[0m\u001b[0m\n\u001b[1;32m     14\u001b[0m \u001b[0mpred\u001b[0m \u001b[0;34m=\u001b[0m \u001b[0mmodel\u001b[0m\u001b[0;34m.\u001b[0m\u001b[0mpredict\u001b[0m\u001b[0;34m(\u001b[0m\u001b[0mX_test_encoded\u001b[0m\u001b[0;34m)\u001b[0m\u001b[0;34m\u001b[0m\u001b[0;34m\u001b[0m\u001b[0m\n\u001b[0;32m---> 15\u001b[0;31m \u001b[0mtest_pred_binary\u001b[0m \u001b[0;34m=\u001b[0m \u001b[0;34m(\u001b[0m\u001b[0mtest_pred\u001b[0m \u001b[0;34m==\u001b[0m \u001b[0;34m'Yes'\u001b[0m\u001b[0;34m)\u001b[0m\u001b[0;34m.\u001b[0m\u001b[0mastype\u001b[0m\u001b[0;34m(\u001b[0m\u001b[0mint\u001b[0m\u001b[0;34m)\u001b[0m\u001b[0;34m\u001b[0m\u001b[0;34m\u001b[0m\u001b[0m\n\u001b[0m\u001b[1;32m     16\u001b[0m \u001b[0;34m\u001b[0m\u001b[0m\n\u001b[1;32m     17\u001b[0m \u001b[0mpred_labels\u001b[0m \u001b[0;34m=\u001b[0m \u001b[0;34m[\u001b[0m\u001b[0;34m'Yes'\u001b[0m \u001b[0;32mif\u001b[0m \u001b[0mi\u001b[0m \u001b[0;34m==\u001b[0m \u001b[0;36m1\u001b[0m \u001b[0;32melse\u001b[0m \u001b[0;34m'No'\u001b[0m \u001b[0;32mfor\u001b[0m \u001b[0mi\u001b[0m \u001b[0;32min\u001b[0m \u001b[0mpred\u001b[0m\u001b[0;34m]\u001b[0m\u001b[0;34m\u001b[0m\u001b[0;34m\u001b[0m\u001b[0m\n",
      "\u001b[0;31mNameError\u001b[0m: name 'test_pred' is not defined"
     ]
    }
   ],
   "source": [
    "from sklearn.linear_model import LogisticRegression\n",
    "from sklearn.metrics import f1_score\n",
    "\n",
    "X_train_encoded = pd.get_dummies(X_train)\n",
    "X_test_encoded = pd.get_dummies(X_test)\n",
    "X_train_encoded, X_test_encoded = X_train_encoded.align(X_test_encoded, join='left', axis=1, fill_value=0)\n",
    "\n",
    "X_train_encoded.fillna(0, inplace=True)\n",
    "X_test_encoded.fillna(0, inplace=True)\n",
    "\n",
    "model = LogisticRegression(max_iter=1000)\n",
    "model.fit(X_train_encoded, y_train)\n",
    "\n",
    "pred = model.predict(X_test_encoded)\n",
    "test_pred_binary = (test_pred == 'Yes').astype(int)\n",
    "\n",
    "pred_labels = ['Yes' if i == 1 else 'No' for i in pred]\n",
    "\n",
    "f1 = f1_score(y_test, pred, pos_label=\"Yes\")\n",
    "print(f1)\n"
   ]
  },
  {
   "cell_type": "code",
   "execution_count": null,
   "metadata": {
    "execution": {
     "iopub.status.busy": "2025-07-23T21:17:51.297545Z",
     "iopub.status.idle": "2025-07-23T21:17:51.297840Z",
     "shell.execute_reply": "2025-07-23T21:17:51.297724Z",
     "shell.execute_reply.started": "2025-07-23T21:17:51.297707Z"
    },
    "trusted": true
   },
   "outputs": [],
   "source": [
    "test_pred = model.predict(X_test_encoded)\n"
   ]
  },
  {
   "cell_type": "code",
   "execution_count": null,
   "metadata": {
    "execution": {
     "iopub.status.busy": "2025-07-23T21:17:51.298941Z",
     "iopub.status.idle": "2025-07-23T21:17:51.299231Z",
     "shell.execute_reply": "2025-07-23T21:17:51.299116Z",
     "shell.execute_reply.started": "2025-07-23T21:17:51.299103Z"
    },
    "trusted": true
   },
   "outputs": [],
   "source": [
    "categorical_cols = X.select_dtypes(include=['object']).columns.tolist()\n",
    "numerical_cols = X.select_dtypes(include=['int64', 'float64']).columns.tolist()\n",
    "print(\"Categorical Columns:\", categorical_cols)\n",
    "print(\"Numerical Columns:\", numerical_cols)\n"
   ]
  },
  {
   "cell_type": "code",
   "execution_count": null,
   "metadata": {
    "execution": {
     "iopub.status.busy": "2025-07-23T21:17:51.300354Z",
     "iopub.status.idle": "2025-07-23T21:17:51.300672Z",
     "shell.execute_reply": "2025-07-23T21:17:51.300556Z",
     "shell.execute_reply.started": "2025-07-23T21:17:51.300544Z"
    },
    "trusted": true
   },
   "outputs": [],
   "source": [
    "import csv\n",
    "\n",
    "test_df = pd.read_csv('/kaggle/input/churn-detection/test.csv')\n",
    "\n",
    "ids = test_df['id']\n",
    "\n",
    "X_test_final = test_df.drop(columns=['id'])\n",
    "\n",
    "X_test_final_encoded = pd.get_dummies(X_test_final)\n",
    "X_test_final_encoded, _ = X_test_final_encoded.align(X_train_encoded, join='right', axis=1, fill_value=0)\n",
    "\n",
    "pred_final = model.predict(X_test_final_encoded)\n",
    "pred_final_binary = (pred_final == 'Yes').astype(int)\n",
    "\n",
    "\n",
    "\n",
    "submission = pd.DataFrame({\n",
    "    'id': test_df['id'].astype(int),\n",
    "    'Churn': pd.Series(pred_final_binary).map({1: 'Yes', 0: 'No'})\n",
    "\n",
    "})\n",
    "\n",
    "submission.columns = ['id', 'Churn']\n",
    "submission = submission.sort_values('id')\n",
    "submission.to_csv(\"submission.csv\", index=False, encoding='utf-8', quoting=csv.QUOTE_NONE)\n",
    "print(f1)\n"
   ]
  },
  {
   "cell_type": "code",
   "execution_count": null,
   "metadata": {
    "execution": {
     "iopub.status.busy": "2025-07-23T21:17:51.302032Z",
     "iopub.status.idle": "2025-07-23T21:17:51.302305Z",
     "shell.execute_reply": "2025-07-23T21:17:51.302193Z",
     "shell.execute_reply.started": "2025-07-23T21:17:51.302182Z"
    },
    "trusted": true
   },
   "outputs": [],
   "source": [
    "print(submission.head(10))\n",
    "print(submission.shape)"
   ]
  },
  {
   "cell_type": "code",
   "execution_count": null,
   "metadata": {
    "execution": {
     "iopub.status.busy": "2025-07-23T21:17:51.303702Z",
     "iopub.status.idle": "2025-07-23T21:17:51.303974Z",
     "shell.execute_reply": "2025-07-23T21:17:51.303859Z",
     "shell.execute_reply.started": "2025-07-23T21:17:51.303848Z"
    },
    "trusted": true
   },
   "outputs": [],
   "source": [
    "print(np.unique(pred_final))\n",
    "print(type(pred_final[0])) "
   ]
  },
  {
   "cell_type": "code",
   "execution_count": null,
   "metadata": {
    "execution": {
     "iopub.status.busy": "2025-07-23T21:17:51.306071Z",
     "iopub.status.idle": "2025-07-23T21:17:51.306462Z",
     "shell.execute_reply": "2025-07-23T21:17:51.306281Z",
     "shell.execute_reply.started": "2025-07-23T21:17:51.306263Z"
    },
    "trusted": true
   },
   "outputs": [],
   "source": [
    "submission.dtypes\n",
    "submission.columns\n",
    "print(len(submission))\n",
    "print(submission['Churn'].unique())\n"
   ]
  },
  {
   "cell_type": "code",
   "execution_count": null,
   "metadata": {
    "execution": {
     "iopub.status.busy": "2025-07-23T21:17:51.307526Z",
     "iopub.status.idle": "2025-07-23T21:17:51.307786Z",
     "shell.execute_reply": "2025-07-23T21:17:51.307680Z",
     "shell.execute_reply.started": "2025-07-23T21:17:51.307669Z"
    },
    "trusted": true
   },
   "outputs": [],
   "source": [
    "print(f1)\n"
   ]
  }
 ],
 "metadata": {
  "kaggle": {
   "accelerator": "none",
   "dataSources": [
    {
     "databundleVersionId": 13104264,
     "sourceId": 108146,
     "sourceType": "competition"
    }
   ],
   "dockerImageVersionId": 31089,
   "isGpuEnabled": false,
   "isInternetEnabled": false,
   "language": "python",
   "sourceType": "notebook"
  },
  "kernelspec": {
   "display_name": "Python 3",
   "language": "python",
   "name": "python3"
  },
  "language_info": {
   "codemirror_mode": {
    "name": "ipython",
    "version": 3
   },
   "file_extension": ".py",
   "mimetype": "text/x-python",
   "name": "python",
   "nbconvert_exporter": "python",
   "pygments_lexer": "ipython3",
   "version": "3.11.13"
  }
 },
 "nbformat": 4,
 "nbformat_minor": 4
}
